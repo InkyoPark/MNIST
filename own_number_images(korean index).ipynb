{
 "cells": [
  {
   "cell_type": "code",
   "execution_count": 7,
   "metadata": {},
   "outputs": [],
   "source": [
    "# 라이브러리 \n",
    "# 행렬연산을 위한 라이브러리\n",
    "import numpy\n",
    "# 시그모이드 함수(expit) 사용을 위한 라이브러리\n",
    "import scipy.special\n",
    "# 시각화를 위한 라이브러리\n",
    "import matplotlib.pyplot\n",
    "%matplotlib inline"
   ]
  },
  {
   "cell_type": "code",
   "execution_count": 8,
   "metadata": {},
   "outputs": [],
   "source": [
    "# 신경망 클래스\n",
    "class neuralNetwork:\n",
    "    \n",
    "    #신 경망 초기화하기\n",
    "    def __init__(self, inputnodes, hiddennodes, outputnodes, learningrate):\n",
    "        self.inodes = inputnodes\n",
    "        self.hnodes = hiddennodes \n",
    "        self.onodes = outputnodes\n",
    "        \n",
    "        # 가중치 행렬 wih, who\n",
    "        #wij는 노드i에서 다음 계층 노드 j로 연결됨을 의미\n",
    "        self.wih = numpy.random.normal(0.0, pow(self.hnodes, -0.5), (self.hnodes, self.inodes))\n",
    "        self.who = numpy.random.normal(0.0, pow(self.onodes, -0.5), (self.onodes, self.hnodes))\n",
    "        \n",
    "        # 학습률\n",
    "        self.lr = learningrate\n",
    "        \n",
    "        # 활성화 함수로 시그모이드 함수를 사용\n",
    "        self.activation_function = lambda x : scipy.special.expit(x)\n",
    "    \n",
    "    # 신경망 학습시키기\n",
    "    def train(self, inputs_list, targets_list):\n",
    "        inputs = numpy.array(inputs_list, ndmin=2).T\n",
    "        targets = numpy.array(targets_list, ndmin=2).T\n",
    "        \n",
    "        #은닉계층으로 들어오는 신호계산\n",
    "        hidden_inputs = numpy.dot(self.wih, inputs)\n",
    "        #은닉계층에서 나가는 신호계산\n",
    "        hidden_outputs = self.activation_function(hidden_inputs)\n",
    "        #출력계층으로 들어오는 신호계산\n",
    "        final_inputs = numpy.dot(self.who, hidden_outputs)\n",
    "        #출력계층에서 나가는 신호계산\n",
    "        final_outputs = self.activation_function(final_inputs)\n",
    "        \n",
    "        # 출력 오차값 구하기(목표 값 - 결과 값)\n",
    "        output_errors = targets - final_outputs\n",
    "        # 은닉 오차값 구하기(역전파과정에는 전치로 계산)\n",
    "        hidden_errors = numpy.dot(self.who.T, output_errors)\n",
    "        \n",
    "        # 은닉과 출력노드의 가중치업데이트\n",
    "        self.who += self.lr * numpy.dot((output_errors * final_outputs * (1.0 - final_outputs)), numpy.transpose(hidden_outputs))\n",
    "        # 입력과 은닉노드의 가중치 업데이트\n",
    "        self.wih += self.lr * numpy.dot((hidden_errors * hidden_outputs * (1.0 - hidden_outputs)), numpy.transpose(inputs))\n",
    "        \n",
    "    \n",
    "    # 신경망에 질의하기\n",
    "    def query(self, inputs_list):\n",
    "        # 입력 리스트를 2차원 배열로 변환(1행을 1열형태로 바꿔서 계산에 용이하게)\n",
    "        inputs = numpy.array(inputs_list, ndmin=2).T\n",
    "        # 은닉계층으로 들어오는 신호계산\n",
    "        hidden_inputs = numpy.dot(self.wih, inputs)\n",
    "        # 은닉계층에서 나가는 신호계산\n",
    "        hidden_outputs = self.activation_function(hidden_inputs)\n",
    "        # 출력계층으로 들어오는 신호계산\n",
    "        final_inputs = numpy.dot(self.who, hidden_outputs)\n",
    "        # 출력계층에서 나가는 신호계산\n",
    "        final_outputs = self.activation_function(final_inputs)\n",
    "        \n",
    "        return final_outputs\n",
    "                "
   ]
  },
  {
   "cell_type": "code",
   "execution_count": 9,
   "metadata": {},
   "outputs": [],
   "source": [
    "# 노드수 정하기\n",
    "input_nodes = 784\n",
    "hidden_nodes = 250\n",
    "output_nodes = 10\n",
    "                \n",
    "# 학습률 정하기\n",
    "learing_rate = 0.05\n",
    "            \n",
    "# 신경망의 인스턴스 설정\n",
    "n = neuralNetwork(input_nodes,hidden_nodes,output_nodes,learing_rate)"
   ]
  },
  {
   "cell_type": "code",
   "execution_count": 10,
   "metadata": {},
   "outputs": [],
   "source": [
    "# mnist training data 불러오기\n",
    "training_data_file = open(\"mnist_dataset/mnist_train.csv\", \"r\")\n",
    "training_data_list = training_data_file.readlines()\n",
    "training_data_file.close()"
   ]
  },
  {
   "cell_type": "code",
   "execution_count": 11,
   "metadata": {},
   "outputs": [],
   "source": [
    "# 신경망 학습시키기\n",
    "# 학습데이터 모음 내의 모든 레코드 탐색\n",
    "# 주기(5일때 좋은 결과값인걸 확인)\n",
    "epoches = 5\n",
    "                \n",
    "for e in range(epoches):\n",
    "    # 학습데이터 모음 내의 모든 레코드 탐색\n",
    "    for record in training_data_list:\n",
    "        # 레코드를 쉼표로 분리\n",
    "        all_values = record.split(\",\")\n",
    "        # 입력값 재조정\n",
    "        inputs = (numpy.asfarray(all_values[1:])/255.0 * 0.999) + 0.001\n",
    "        # 결과값 생성\n",
    "        targets = numpy.zeros(output_nodes) +0.01\n",
    "        # all_values[0]은 레코드에 대한 결과값\n",
    "        targets[int(all_values[0])] = 0.99\n",
    "        n.train(inputs, targets)"
   ]
  },
  {
   "cell_type": "code",
   "execution_count": 13,
   "metadata": {},
   "outputs": [
    {
     "name": "stdout",
     "output_type": "stream",
     "text": [
      "loading ...  own_number_images\\image_1.png\n",
      "0.28387672\n",
      "0.77621734\n",
      "loading ...  own_number_images\\image_2.png\n",
      "0.3011765\n",
      "0.7287012\n",
      "loading ...  own_number_images\\image_3.png\n",
      "0.30284587\n",
      "0.80062956\n",
      "loading ...  own_number_images\\image_6.png\n",
      "0.33523247\n",
      "0.8390532\n",
      "loading ...  own_number_images\\image_8.png\n",
      "0.30001566\n",
      "0.7666162\n",
      "loading ...  own_number_images\\image_9.png\n",
      "0.31970304\n",
      "0.73123246\n"
     ]
    }
   ],
   "source": [
    "# 파일 및 디렉토리의 리스트를 반환을 위한 라이브러리\n",
    "import glob\n",
    "# 이미지로드를 위한 라이브러리\n",
    "import imageio\n",
    "# 행렬 연산을 위한 라이브러리\n",
    "import numpy\n",
    "# 손글씨 테스트 데이터 셋 만들기\n",
    "our_own_dataset = []\n",
    "\n",
    "# 테스트로 쓸 png 파일들 불러오기 \n",
    "for image_file_name in glob.glob(\"own_number_images/image_?.png\"):\n",
    "     # 파일 제목의 숫자 부분을 레이블로 설정 \n",
    "    label = int(image_file_name[-5])\n",
    "    \n",
    "    # png 파일 로드하기\n",
    "    print (\"loading ... \", image_file_name)\n",
    "    img_array = imageio.imread(image_file_name, as_gray=True)\n",
    "    \n",
    "    # 255.0으로부터 784값의 (28,28)행렬값을 빼줌\n",
    "    img_data  = 255.0 - img_array.reshape(28,28)\n",
    "    \n",
    "    # 데이터값의 범위를 0.01에서 1.0으로 조절\n",
    "    img_data = (img_data / 255.0 * 0.99) + 0.01\n",
    "    print(numpy.min(img_data))\n",
    "    print(numpy.max(img_data))\n",
    "    \n",
    "     # 레이블과 이미지데이터를 테스트 셋에 추가 \n",
    "    record = numpy.append(label,img_data)\n",
    "    our_own_dataset.append(record)"
   ]
  },
  {
   "cell_type": "code",
   "execution_count": 20,
   "metadata": {},
   "outputs": [
    {
     "name": "stdout",
     "output_type": "stream",
     "text": [
      "[[0.01932661]\n",
      " [0.00150696]\n",
      " [0.14377455]\n",
      " [0.48457794]\n",
      " [0.00085465]\n",
      " [0.02428902]\n",
      " [0.04338387]\n",
      " [0.01145348]\n",
      " [0.72620794]\n",
      " [0.27283962]]\n",
      "network says 8\n",
      "no match!\n"
     ]
    },
    {
     "data": {
      "image/png": "[encoded data removed]",
      "text/plain": [
       "<Figure size 432x288 with 1 Axes>"
      ]
     },
     "metadata": {
      "needs_background": "light"
     },
     "output_type": "display_data"
    }
   ],
   "source": [
    "import matplotlib.pyplot\n",
    "\n",
    "# 테스트 셋에서의 레코드\n",
    "item = 5\n",
    "\n",
    "# 숫자를 (28,28)사이즈로 보기\n",
    "matplotlib.pyplot.imshow(our_own_dataset[item][1:].reshape(28,28), cmap='Greys', interpolation='None')\n",
    "\n",
    "# 손글씨 테스트 데이터 셋에 첫번째 값을 correct label값으로 \n",
    "correct_label = our_own_dataset[item][0]\n",
    "# 남은 부분을 입력값으로 \n",
    "inputs = our_own_dataset[item][1:]\n",
    "\n",
    "# 신경망에 질의하기\n",
    "outputs = n.query(inputs)\n",
    "print (outputs)\n",
    "\n",
    "# 행렬연산후 가장큰값을 label에 할당 \n",
    "label = numpy.argmax(outputs)\n",
    "print(\"network says\", label)\n",
    "# 결과가 일치하면 \"match\" 틀리면 \"no match\" \n",
    "if (label == correct_label):\n",
    "    print (\"match!\")\n",
    "else:\n",
    "    print (\"no match!\")"
   ]
  },
  {
   "cell_type": "code",
   "execution_count": null,
   "metadata": {},
   "outputs": [],
   "source": []
  }
 ],
 "metadata": {
  "kernelspec": {
   "display_name": "Python 3",
   "language": "python",
   "name": "python3"
  },
  "language_info": {
   "codemirror_mode": {
    "name": "ipython",
    "version": 3
   },
   "file_extension": ".py",
   "mimetype": "text/x-python",
   "name": "python",
   "nbconvert_exporter": "python",
   "pygments_lexer": "ipython3",
   "version": "3.7.3"
  }
 },
 "nbformat": 4,
 "nbformat_minor": 2
}
